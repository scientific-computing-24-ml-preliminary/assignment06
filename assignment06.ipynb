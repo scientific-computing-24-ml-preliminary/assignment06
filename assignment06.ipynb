{
 "cells": [
  {
   "cell_type": "markdown",
   "metadata": {},
   "source": [
    "## Scientific Computing\n",
    "### Assignment 6: probability theory\n",
    "\n",
    "[Software, Data and\n",
    "Technology](https://lp.jetbrains.com/software-data-and-technology-constructor-university/) bachelor program at [Constructor\n",
    "University](https://constructor.university) (Bremen)."
   ]
  },
  {
   "cell_type": "markdown",
   "metadata": {},
   "source": [
    "This assignment contains tasks where you have to derive or prove something analytically, as well as programming tasks. For analytical tasks, you can either write your solutions in the notebook using Markdown cells and LaTeX markup, or accurately write your solutions with pen and paper and provide scans. Unreadable solutions will not be graded."
   ]
  },
  {
   "cell_type": "markdown",
   "metadata": {},
   "source": [
    "### Task 1 (1+2+2 points)\n",
    "Consider random variable $X$ distributed uniformly on a segment $[0, 1]$. Let $Y=X^2$.\n",
    "\n",
    "1. Find cumulative distribution function (CDF) $F_Y(y)$ of $Y$. Use the definition of CDF.\n",
    "2. Find probability density function (PDF) $p_Y(y)$ of $Y$. Use the relation between CDF and PDF. What can you say about $\\lim_{y\\to 0+} p_Y(y)$?\n",
    "3. Use Python to generate a sample $y_1, \\ldots, y_n$ of values from $Y$. (First generate a sample of values $x_1, \\ldots, x_n$ from $X$ using standard functions from `np.random` or `scipy.stats`, than calculate $y_1, \\ldots, y_n$.) Plot histogram of that sample with `density=True` and graph of $p_Y(y)$ on the same picture. They should match. Try increasing number of samples and number of bins. How the limit behaviour of $p_Y(y)$ at 0 affects the histogram as number of samples and number of bins becomes large?"
   ]
  },
  {
   "cell_type": "code",
   "execution_count": null,
   "metadata": {},
   "outputs": [],
   "source": [
    "# YOUR CODE HERE"
   ]
  },
  {
   "cell_type": "markdown",
   "metadata": {},
   "source": [
    "### Task 2 (1 + 1 + 2 + 2 + 1 points)\n",
    "Let $X$ be a uniform random variable on a segment $[-1, 1]$ and $\\varepsilon$ be a uniform random variable on a segment $[0, 1]$. Assume that $X$ and $\\varepsilon$ are independent. Consider random variable $Y=X + \\varepsilon X$.\n",
    "\n",
    "1. Find the marginal PDF $p_X(x)$, conditional PDF $p_{Y|X}(y|X)$, and joint PDF $p_{X,Y}(x, y)$. (*Hint:* Find them in that order, use the definition of conditional PDF to find joint PDF.) Is the joint PDF a bounded function?\n",
    "2. For an arbitrary fixed value $x_0$, find the expected value $\\mathbb E [Y|X=x_0]$ (i.e., the expected value of $Y$ conditional on $X=x_0$).\n",
    "3. Find the marginal PDF $p_Y(y)$ of random variable $Y$. Check that it is indeed a PDF, i.e., $\\int_\\mathbb R p_Y(y)\\, dy=1$.\n",
    "4. Use Python to generate random samples $(x_1, y_1), \\ldots, (x_n, y_n)$ of $(X, Y)$ for some large $n$. Use these samples to make two plots: a scatter plot and a two-dimensional histogram plot (use `matplotlib.pyplot.hist2d`). Which features of the joint distribution are more visible in the 2D histogram plot compared with the scatter plot? What happens with the 2D histogram if you increase the number of bins and number of points at the same time? Why?\n",
    "5. How does the answer to question 1 change if $\\varepsilon$ is not independent of $X$, but calculated as $\\varepsilon = |X|$? (Check that the distribution of $\\varepsilon$ in that case is still uniform on $[0, 1]$, so only the assumption of independence is changed.)"
   ]
  },
  {
   "cell_type": "code",
   "execution_count": null,
   "metadata": {},
   "outputs": [],
   "source": [
    "# YOUR CODE HERE"
   ]
  },
  {
   "cell_type": "markdown",
   "metadata": {},
   "source": [
    "### Task 3 (2 points + 2 bonus points)\n",
    "Let $X$ be a random variable with given probability density function $p(x)$. \n",
    "1. Find a value $x_0$ such that $\\mathbb E[(x-x_0)^2]$ is minimal.\n",
    "2. (bonus) Find a value $x_0$ such that $\\mathbb E|x-x_0|$ is minimal. Is it necessarily uniquely defined?"
   ]
  },
  {
   "cell_type": "markdown",
   "metadata": {},
   "source": [
    "*Your solution here*"
   ]
  },
  {
   "cell_type": "markdown",
   "metadata": {},
   "source": [
    "### Task 4 (2 points)\n",
    "Let $X$ be a random variable with cumulative distribution function $F(x)$. Assume that $F(x)$ is strictly increasing and therefore an inverse $F^{-1}(p)$ exists. (It is called a *quantile* function.) I want to generate a sample from $X$. To this end, I use the following algorithm:\n",
    "\n",
    "1. Generate random number $p$ from a uniform distribution on $[0, 1]$.\n",
    "2. Put $x=F^{-1}(p)$.\n",
    "\n",
    "Prove that $x$ is distributed as $X$."
   ]
  },
  {
   "cell_type": "markdown",
   "metadata": {},
   "source": [
    "*Your solution here*"
   ]
  },
  {
   "cell_type": "markdown",
   "metadata": {},
   "source": [
    "### Task 5 (bonus, 5 points)\n",
    "\n",
    "In various applications, it may be necessary to generate a sample from a random variable whose PDF is known up to multiplication by a constant, i.e. instead of a true PDF $p(x)$ we know a function $s(x)=c\\cdot p(x)$, where $c$ is an unknown positive constant. In this task, we implement and analyze a simple algorithm that can be used to solve this problem.\n",
    "\n",
    "**Remark.** Of course, theoretically it is easy to reconstruct $p(x)$ from $s(x)$. Indeed, from the condition $\\int_{\\mathbb R} p(x)\\, dx=1$, it follows immediately that $1/c=\\int_{\\mathbb R} s(x)\\, dx$. Then it is possible to find $F(x)$ by integration and use the recipe from Task 4 to make samples. However, it is possible that the integral for $c$ is difficult to compute, even numerically, because evaluation of $s$ at a specific point can be costly from a computational point of view. In this case, a less straightforward algorithm is needed.\n",
    "\n",
    "We assume that $s(x)$ is bounded and we know some upper bound $M$, i.e. $0 \\le s(x) \\le M$ for all $x$. We also assume that $s(x) = 0$ outside of some known segment $[A, B]$. The algorithm goes as follows:\n",
    "\n",
    "1. Generate a random number $x'$ from a uniform distribution on the segment $[A, B]$.\n",
    "2. Generate independently a random number $u$ from a uniform distribution on the segment $[0, M]$.\n",
    "3. Find $s(x')$. If $u \\le s(x')$, put $x:=x'$ and stop. Otherwise, throw away this $x'$ and return to step 1.\n",
    "\n",
    "Prove that values $x$ generated by this algorithm indeed have PDF equal to $p(x)$. Implement this algorithm in Python and check that it works as expected by appropriate visualizations.\n",
    "\n",
    "**Hint.** Find PDF of the joint distribution $(x, u)$, then find the marginal distribution of $x$."
   ]
  },
  {
   "cell_type": "markdown",
   "metadata": {},
   "source": [
    "*Your solution here*"
   ]
  }
 ],
 "metadata": {
  "kernelspec": {
   "display_name": "scientific-computing-2024-lesson01",
   "language": "python",
   "name": "python3"
  },
  "language_info": {
   "codemirror_mode": {
    "name": "ipython",
    "version": 3
   },
   "file_extension": ".py",
   "mimetype": "text/x-python",
   "name": "python",
   "nbconvert_exporter": "python",
   "pygments_lexer": "ipython3",
   "version": "3.11.9"
  }
 },
 "nbformat": 4,
 "nbformat_minor": 2
}
